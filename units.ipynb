{
 "cells": [
  {
   "cell_type": "code",
   "execution_count": 1,
   "metadata": {},
   "outputs": [],
   "source": [
    "import sympy\n",
    "sympy.init_printing()"
   ]
  },
  {
   "cell_type": "code",
   "execution_count": 2,
   "metadata": {},
   "outputs": [],
   "source": [
    "def si_drived_unit_equivalent(unit_string:str) -> str:\n",
    "    assert ' ' not in unit_string, 'Invalid space character'\n",
    "    \n",
    "    si_drived_units = {'N': 'kg m s^-2', 'J': 'kg m^2 s^-2', 'C':'A s',\n",
    "                       'T': 'kg s^-2 A^-1', 'Pa':'kg m^-1 s^-2',\n",
    "                       'W':'kg m^2 s^-3', 'Hz':'s^-1', 'V':'kg m^2 s^−3 A^−1',\n",
    "                       'F':'kg^−1 m^−2 s^4 A^2', 'Wb':'kg m^2 s^−2 A^−1',\n",
    "                       'H':'kg m^2 s^−2 A^−2', 'ohm':'kg m^2 s^−3 A^−2',\n",
    "                       'rad':'', 'sr':''}\n",
    "    \n",
    "    if '^' in unit_string:\n",
    "        unit_part = unit_string.split('^')[0]\n",
    "        power_part = int(unit_string.split('^')[1])\n",
    "    else:\n",
    "        unit_part = unit_string\n",
    "        power_part = 1\n",
    "    \n",
    "    if unit_part in si_drived_units:\n",
    "        unit_part = si_drived_units[unit_part]            \n",
    "        unit_list = [unit_part for instance in range(power_part)]\n",
    "        return ' '.join(unit_list)\n",
    "    else:    \n",
    "        return unit_string\n",
    "\n",
    "def symplify_drived_units(unit_string:str) -> str:\n",
    "    unit_list = []\n",
    "    for unit in unit_string.split(' '):\n",
    "        unit_list.append(si_drived_unit_equivalent(unit))\n",
    "    return ' '.join(unit_list)"
   ]
  },
  {
   "cell_type": "code",
   "execution_count": 3,
   "metadata": {},
   "outputs": [],
   "source": [
    "def si_parser(unit_string:str) -> dict:\n",
    "    from sympy.physics import units\n",
    "    \n",
    "    si_system = {'m': units.length, 's': units.time,\n",
    "                 'k': units.temperature, 'kg': units.mass,\n",
    "                 'mol': units.amount_of_substance, 'A': units.current,\n",
    "                 'cd': units.luminous_intensity}\n",
    "    unit_string = symplify_drived_units(unit_string)\n",
    "    \n",
    "    result_unit = 1\n",
    "    for unit in unit_string.split(' '):\n",
    "        \n",
    "        if '^' in unit:\n",
    "            unit_part = unit.split('^')[0]\n",
    "            power_part = int(unit.split('^')[1])\n",
    "        else:\n",
    "            unit_part = unit\n",
    "            power_part = 1            \n",
    "        \n",
    "        result_unit *= (si_system[unit_part]**power_part)\n",
    "\n",
    "    return result_unit"
   ]
  },
  {
   "cell_type": "code",
   "execution_count": 4,
   "metadata": {},
   "outputs": [
    {
     "data": {
      "image/png": "[encoded data removed]",
      "text/latex": [
       "$\\displaystyle Dimension\\left(\\frac{length mass}{time^{2}}\\right)$"
      ],
      "text/plain": [
       "Dimension(length*mass/time**2)"
      ]
     },
     "execution_count": 4,
     "metadata": {},
     "output_type": "execute_result"
    }
   ],
   "source": [
    "f = si_parser('N')\n",
    "f"
   ]
  },
  {
   "cell_type": "markdown",
   "metadata": {},
   "source": [
    "# Dimensional Analysis"
   ]
  },
  {
   "cell_type": "code",
   "execution_count": 5,
   "metadata": {},
   "outputs": [],
   "source": [
    "def parameter(name:str, unit:str, latex_repr:str):\n",
    "    from sympy.physics.units import Quantity\n",
    "    from sympy.physics.units.systems import SI\n",
    "    \n",
    "    parameter = Quantity(name, latex_repr=latex_repr)\n",
    "    SI.set_quantity_dimension(parameter, si_parser(unit))\n",
    "    return parameter"
   ]
  },
  {
   "cell_type": "code",
   "execution_count": 6,
   "metadata": {},
   "outputs": [],
   "source": [
    "class DimensionalAnalysis:\n",
    "    def __init__(self, paramters:list):\n",
    "        self.parameters = paramters\n",
    "        \n",
    "    @property\n",
    "    def fundamental_dimensions(self):\n",
    "        from sympy.physics.units.systems.si import dimsys_SI\n",
    "        dimensions = set()\n",
    "        for parameter in parameters:\n",
    "            dimension_dict = dimsys_SI.get_dimensional_dependencies(parameter.dimension)\n",
    "            for dimension in dimension_dict:\n",
    "                dimensions.add(dimension)\n",
    "        return dimensions\n",
    "    \n",
    "    @property\n",
    "    def dimension_matrix(self):\n",
    "        from sympy.physics.units.systems.si import dimsys_SI\n",
    "        matrix = sympy.zeros(len(self.fundamental_dimensions),\n",
    "                             len(self.parameters))\n",
    "        for i, dimension in enumerate(self.fundamental_dimensions):\n",
    "            for j, parameter in enumerate(self.parameters):\n",
    "                dimension_dict = dimsys_SI.get_dimensional_dependencies(parameter.dimension)\n",
    "                if dimension in dimension_dict:\n",
    "                    matrix[i,j] = dimension_dict[dimension]\n",
    "                else:\n",
    "                    matrix[i,j] = 0\n",
    "\n",
    "        return matrix\n",
    "    \n",
    "    @property\n",
    "    def dimensionless_parameters(self):\n",
    "        dimesionless_dict = dict()\n",
    "        nullspace = self.dimension_matrix.nullspace()\n",
    "        for i, vector in enumerate(nullspace):\n",
    "            d = 1\n",
    "            for j, power in enumerate(vector):\n",
    "                if power - int(power) == 0:\n",
    "                    power = int(power) # Prefer using integer powers if possible\n",
    "                d *= (self.parameters[j]**power)\n",
    "                dimesionless_dict[sympy.symbols(f'Pi_{i}')] = d\n",
    "\n",
    "        return dimesionless_dict\n",
    "    \n",
    "    def solve_for(self, parameter):\n",
    "        solution_dict = dict()\n",
    "        dimensionless_dict = self.dimensionless_parameters\n",
    "        for d in dimensionless_dict:\n",
    "            solution = sympy.solve(sympy.Eq(dimensionless_dict[d], d),\n",
    "                                   parameter)\n",
    "            solution_dict[d] = solution\n",
    "        return solution_dict"
   ]
  },
  {
   "cell_type": "markdown",
   "metadata": {},
   "source": [
    "# Fluid Flow"
   ]
  },
  {
   "cell_type": "code",
   "execution_count": 7,
   "metadata": {},
   "outputs": [],
   "source": [
    "density = parameter('density', 'kg m^-3', '\\\\rho')\n",
    "viscosity = parameter('viscosity', 'kg m^-1 s^-1', '\\mu')\n",
    "velocity = parameter('velocity', 'm s^-1', 'u')\n",
    "diameter = parameter('diameter', 'm', 'D')"
   ]
  },
  {
   "cell_type": "code",
   "execution_count": 37,
   "metadata": {},
   "outputs": [
    {
     "data": {
      "image/png": "[encoded data removed]",
      "text/latex": [
       "$\\displaystyle \\mu$"
      ],
      "text/plain": [
       "viscosity"
      ]
     },
     "execution_count": 37,
     "metadata": {},
     "output_type": "execute_result"
    }
   ],
   "source": [
    "viscosity.dimension\n",
    "viscosity"
   ]
  },
  {
   "cell_type": "code",
   "execution_count": 38,
   "metadata": {},
   "outputs": [],
   "source": [
    "parameters = [density, viscosity, velocity, diameter]"
   ]
  },
  {
   "cell_type": "code",
   "execution_count": 39,
   "metadata": {},
   "outputs": [
    {
     "data": {
      "image/png": "[encoded data removed]",
      "text/latex": [
       "$\\displaystyle \\left\\{ \\Pi_{0} : \\frac{\\rho D u}{\\mu}\\right\\}$"
      ],
      "text/plain": [
       "⎧    density⋅diameter⋅velocity⎫\n",
       "⎨Π₀: ─────────────────────────⎬\n",
       "⎩            viscosity        ⎭"
      ]
     },
     "execution_count": 39,
     "metadata": {},
     "output_type": "execute_result"
    }
   ],
   "source": [
    "analyze = DimensionalAnalysis(parameters)\n",
    "(analyze.dimensionless_parameters)"
   ]
  },
  {
   "cell_type": "code",
   "execution_count": 40,
   "metadata": {},
   "outputs": [
    {
     "data": {
      "image/png": "[encoded data removed]",
      "text/latex": [
       "$\\displaystyle \\left\\{ \\Pi_{0} : \\left[ \\frac{\\Pi_{0} \\mu}{\\rho D}\\right]\\right\\}$"
      ],
      "text/plain": [
       "⎧    ⎡  Π₀⋅viscosity  ⎤⎫\n",
       "⎨Π₀: ⎢────────────────⎥⎬\n",
       "⎩    ⎣density⋅diameter⎦⎭"
      ]
     },
     "execution_count": 40,
     "metadata": {},
     "output_type": "execute_result"
    }
   ],
   "source": [
    "analyze.solve_for(velocity)"
   ]
  },
  {
   "cell_type": "markdown",
   "metadata": {},
   "source": [
    "# Pendulum"
   ]
  },
  {
   "cell_type": "code",
   "execution_count": 40,
   "metadata": {},
   "outputs": [],
   "source": [
    "period = parameter('period', 's', 'T')\n",
    "g = parameter('g', 'm s^-2', 'g')\n",
    "length = parameter('length', 'm', 'L')"
   ]
  },
  {
   "cell_type": "code",
   "execution_count": 41,
   "metadata": {},
   "outputs": [],
   "source": [
    "parameters = [period, g, length]"
   ]
  },
  {
   "cell_type": "code",
   "execution_count": 42,
   "metadata": {},
   "outputs": [
    {
     "data": {
      "image/png": "[encoded data removed]",
      "text/latex": [
       "$\\displaystyle \\left[ \\frac{L}{g T^{2}}\\right]$"
      ],
      "text/plain": [
       "⎡  length ⎤\n",
       "⎢─────────⎥\n",
       "⎢        2⎥\n",
       "⎣g⋅period ⎦"
      ]
     },
     "execution_count": 42,
     "metadata": {},
     "output_type": "execute_result"
    }
   ],
   "source": [
    "analyze = DimensionalAnalysis(parameters)\n",
    "analyze.dimensionless_parameters"
   ]
  },
  {
   "cell_type": "code",
   "execution_count": 43,
   "metadata": {},
   "outputs": [
    {
     "data": {
      "image/png": "[encoded data removed]",
      "text/latex": [
       "$\\displaystyle \\left[ \\left[ - \\frac{\\sqrt{\\frac{1}{\\Pi}} \\sqrt{L}}{\\sqrt{g}}, \\  \\frac{\\sqrt{\\frac{1}{\\Pi}} \\sqrt{L}}{\\sqrt{g}}\\right]\\right]$"
      ],
      "text/plain": [
       "⎡⎡     ___                  ___           ⎤⎤\n",
       "⎢⎢    ╱ 1    ________      ╱ 1    ________⎥⎥\n",
       "⎢⎢-  ╱  ─ ⋅╲╱ length      ╱  ─ ⋅╲╱ length ⎥⎥\n",
       "⎢⎢ ╲╱   Π               ╲╱   Π            ⎥⎥\n",
       "⎢⎢────────────────────, ──────────────────⎥⎥\n",
       "⎣⎣         √g                   √g        ⎦⎦"
      ]
     },
     "execution_count": 43,
     "metadata": {},
     "output_type": "execute_result"
    }
   ],
   "source": [
    "analyze.solve_for(period)"
   ]
  },
  {
   "cell_type": "markdown",
   "metadata": {},
   "source": [
    "# Fluid Static"
   ]
  },
  {
   "cell_type": "code",
   "execution_count": 44,
   "metadata": {},
   "outputs": [],
   "source": [
    "pressure = parameter('pressure', 'Pa', 'P')\n",
    "density = parameter('density', 'kg m^-3', '\\\\rho')\n",
    "g = parameter('g', 'm s^-2', 'g')\n",
    "height = parameter('height', 'm', 'h')"
   ]
  },
  {
   "cell_type": "code",
   "execution_count": 45,
   "metadata": {},
   "outputs": [],
   "source": [
    "parameters = [pressure, density, g, height]"
   ]
  },
  {
   "cell_type": "code",
   "execution_count": 46,
   "metadata": {},
   "outputs": [
    {
     "data": {
      "image/png": "[encoded data removed]",
      "text/latex": [
       "$\\displaystyle \\left[ \\frac{\\rho g h}{P}\\right]$"
      ],
      "text/plain": [
       "⎡density⋅g⋅height⎤\n",
       "⎢────────────────⎥\n",
       "⎣    pressure    ⎦"
      ]
     },
     "execution_count": 46,
     "metadata": {},
     "output_type": "execute_result"
    }
   ],
   "source": [
    "analyze = DimensionalAnalysis(parameters)\n",
    "analyze.dimensionless_parameters"
   ]
  },
  {
   "cell_type": "code",
   "execution_count": 47,
   "metadata": {},
   "outputs": [
    {
     "data": {
      "image/png": "[encoded data removed]",
      "text/latex": [
       "$\\displaystyle \\left[ \\left[ \\frac{\\rho g h}{\\Pi}\\right]\\right]$"
      ],
      "text/plain": [
       "⎡⎡density⋅g⋅height⎤⎤\n",
       "⎢⎢────────────────⎥⎥\n",
       "⎣⎣       Π        ⎦⎦"
      ]
     },
     "execution_count": 47,
     "metadata": {},
     "output_type": "execute_result"
    }
   ],
   "source": [
    "analyze.solve_for(pressure)"
   ]
  },
  {
   "cell_type": "markdown",
   "metadata": {},
   "source": [
    "# Wave Equation"
   ]
  },
  {
   "cell_type": "code",
   "execution_count": 48,
   "metadata": {},
   "outputs": [],
   "source": [
    "wave_length = parameter('wave length', 'm', '\\lambda')\n",
    "velocity = parameter('velocity', 'm s^-1', 'C')\n",
    "period = parameter('period', 's', 'T')"
   ]
  },
  {
   "cell_type": "code",
   "execution_count": 49,
   "metadata": {},
   "outputs": [],
   "source": [
    "parameters = [wave_length, velocity, period]"
   ]
  },
  {
   "cell_type": "code",
   "execution_count": 50,
   "metadata": {},
   "outputs": [
    {
     "data": {
      "image/png": "[encoded data removed]",
      "text/latex": [
       "$\\displaystyle \\left[ \\frac{T u}{\\lambda}\\right]$"
      ],
      "text/plain": [
       "⎡period⋅velocity⎤\n",
       "⎢───────────────⎥\n",
       "⎣  wave length  ⎦"
      ]
     },
     "execution_count": 50,
     "metadata": {},
     "output_type": "execute_result"
    }
   ],
   "source": [
    "analyze = DimensionalAnalysis(parameters)\n",
    "analyze.dimensionless_parameters"
   ]
  },
  {
   "cell_type": "code",
   "execution_count": 51,
   "metadata": {},
   "outputs": [
    {
     "data": {
      "image/png": "[encoded data removed]",
      "text/latex": [
       "$\\displaystyle \\left[ \\left[ \\frac{T u}{\\Pi}\\right]\\right]$"
      ],
      "text/plain": [
       "⎡⎡period⋅velocity⎤⎤\n",
       "⎢⎢───────────────⎥⎥\n",
       "⎣⎣       Π       ⎦⎦"
      ]
     },
     "execution_count": 51,
     "metadata": {},
     "output_type": "execute_result"
    }
   ],
   "source": [
    "analyze.solve_for(wave_length)"
   ]
  },
  {
   "cell_type": "code",
   "execution_count": null,
   "metadata": {},
   "outputs": [],
   "source": []
  }
 ],
 "metadata": {
  "kernelspec": {
   "display_name": "Python 3",
   "language": "python",
   "name": "python3"
  },
  "language_info": {
   "codemirror_mode": {
    "name": "ipython",
    "version": 3
   },
   "file_extension": ".py",
   "mimetype": "text/x-python",
   "name": "python",
   "nbconvert_exporter": "python",
   "pygments_lexer": "ipython3",
   "version": "3.7.6"
  }
 },
 "nbformat": 4,
 "nbformat_minor": 4
}
