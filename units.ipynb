{
 "cells": [
  {
   "cell_type": "code",
   "execution_count": 1,
   "metadata": {},
   "outputs": [],
   "source": [
    "import numpy as np\n",
    "import sympy\n",
    "sympy.init_printing()"
   ]
  },
  {
   "cell_type": "code",
   "execution_count": 2,
   "metadata": {},
   "outputs": [],
   "source": [
    "class Dimension:\n",
    "    def __init__(self):\n",
    "        self.length = sympy.symbols('Length')\n",
    "        self.time = sympy.symbols('Time')\n",
    "        self.temperature = sympy.symbols('Temperature')\n",
    "        self.mass = sympy.symbols('Mass')\n",
    "        self.quantity = sympy.symbols('Quantity')\n",
    "        self.current = sympy.symbols('Current')\n",
    "        self.luminosity = sympy.symbols('Luminosity ')\n",
    "dimension = Dimension()"
   ]
  },
  {
   "cell_type": "code",
   "execution_count": 3,
   "metadata": {},
   "outputs": [],
   "source": [
    "velocity_dimension = {dimension.length:1, dimension.time:-1}"
   ]
  },
  {
   "cell_type": "code",
   "execution_count": 4,
   "metadata": {},
   "outputs": [],
   "source": [
    "si_system = {'m': dimension.length, 's': dimension.time,\n",
    "             'k': dimension.temperature, 'kg': dimension.mass,\n",
    "             'mol': dimension.quantity, 'A': dimension.current,\n",
    "             'cd': dimension.luminosity}\n",
    "\n",
    "si_parameters = {'N': 'kg m s^-2', 'J': 'kg m^2 s^-2', 'C':'A s',\n",
    "                 'T': 'kg s^-2 A^-1', 'Pa':'kg m^-1 s^-2',\n",
    "                 'W':'kg m^2 s^-3', 'Hz':'s^-1', 'V':'kg m^2 s^−3 A^−1',\n",
    "                 'F':'kg^−1 m^−2 s^4 A^2', 'Wb':'kg m^2 s^−2 A^−1',\n",
    "                 'H':'kg m^2 s^−2 A^−2', 'ohm':'kg m^2 s^−3 A^−2',\n",
    "                 'rad':'', 'sr':''}\n",
    "    "
   ]
  },
  {
   "cell_type": "code",
   "execution_count": 5,
   "metadata": {},
   "outputs": [],
   "source": [
    "def symplify_unit(unit_string:str) -> str:\n",
    "    for parameter in si_parameters:\n",
    "        if parameter in unit_string:\n",
    "            unit_string = unit_string.replace(parameter, si_parameters[parameter])\n",
    "    return unit_string\n",
    "\n",
    "def remove_useless_dimensions(unit_dict:dict) -> dict:\n",
    "    updated_unit_dict = dict()\n",
    "    for dimension in unit_dict:\n",
    "        if unit_dict[dimension] != 0:\n",
    "            updated_unit_dict[dimension] = unit_dict[dimension]\n",
    "    return updated_unit_dict"
   ]
  },
  {
   "cell_type": "code",
   "execution_count": 6,
   "metadata": {},
   "outputs": [],
   "source": [
    "def convert_2_fundamental_units(unit_string:str) -> dict:\n",
    "    unit_string = symplify_unit(unit_string)\n",
    "    \n",
    "    unit_dict = dict()\n",
    "    \n",
    "    for item in unit_string.split(' '):\n",
    "        \n",
    "        unit = item.split('^')[0]\n",
    "        try:\n",
    "            power = int(item.split('^')[1])\n",
    "        except IndexError:\n",
    "            power = 1\n",
    "\n",
    "        if si_system[unit] in unit_dict:\n",
    "            unit_dict[si_system[unit]] = unit_dict[si_system[unit]] + power\n",
    "        else:\n",
    "            unit_dict[si_system[unit]] = power\n",
    "        \n",
    "        unit_dict = remove_useless_dimensions(unit_dict)\n",
    "        \n",
    "\n",
    "    return unit_dict"
   ]
  },
  {
   "cell_type": "code",
   "execution_count": 7,
   "metadata": {},
   "outputs": [
    {
     "data": {
      "image/png": "[encoded data removed]",
      "text/latex": [
       "$\\displaystyle \\left\\{ Length : 2, \\  Mass : 1, \\  Time : -2\\right\\}$"
      ],
      "text/plain": [
       "{Length: 2, Mass: 1, Time: -2}"
      ]
     },
     "execution_count": 7,
     "metadata": {},
     "output_type": "execute_result"
    }
   ],
   "source": [
    "f = convert_2_fundamental_units('N m')\n",
    "f"
   ]
  },
  {
   "cell_type": "markdown",
   "metadata": {},
   "source": [
    "# Dimensional Analysis"
   ]
  },
  {
   "cell_type": "code",
   "execution_count": 8,
   "metadata": {},
   "outputs": [],
   "source": [
    "class Parameter:\n",
    "    def __init__(self, symbol, unit):\n",
    "        self.symbol = sympy.symbols(symbol)\n",
    "        self.unit = unit\n",
    "        self.fundamental_unit = convert_2_fundamental_units(self.unit)\n",
    "    def __str__(self):\n",
    "        return self.symbol.__str__()"
   ]
  },
  {
   "cell_type": "code",
   "execution_count": 14,
   "metadata": {},
   "outputs": [],
   "source": [
    "class DimensionalAnalysis:\n",
    "    def __init__(self, paramters:list):\n",
    "        self.parameters = paramters\n",
    "        \n",
    "    @property\n",
    "    def fundamental_dimensions(self):\n",
    "        dimensions = set()\n",
    "        for p in parameters: # p is parameter\n",
    "            for d in p.fundamental_unit: # d is dimension\n",
    "                dimensions.add(d)\n",
    "        return dimensions\n",
    "    \n",
    "    @property\n",
    "    def dimension_matrix(self):\n",
    "        matrix = sympy.zeros(len(self.fundamental_dimensions),\n",
    "                             len(self.parameters))\n",
    "        for i, d in enumerate(self.fundamental_dimensions):\n",
    "            for j, p in enumerate(self.parameters):\n",
    "                if d in p.fundamental_unit:\n",
    "                    matrix[i,j] = p.fundamental_unit[d]\n",
    "                else:\n",
    "                    matrix[i,j] = 0\n",
    "\n",
    "        return matrix\n",
    "    \n",
    "    @property\n",
    "    def dimensionless_parameters(self):\n",
    "        dimesionless_list = []\n",
    "        nullspace = self.dimension_matrix.nullspace()\n",
    "        nullspace = np.array(nullspace).astype(np.float64)\n",
    "        for vector in nullspace:\n",
    "            d = 1\n",
    "            for i, power in enumerate(list(vector)):\n",
    "                if power - int(power) == 0:\n",
    "                    power = int(power)\n",
    "                d *= (self.parameters[i].symbol**power)\n",
    "            dimesionless_list.append(d)\n",
    "\n",
    "        return dimesionless_list\n",
    "    \n",
    "    def solve_for(self, parameter):\n",
    "        solutions = []\n",
    "        dimensionless_symbol = sympy.symbols('Pi')\n",
    "        dimensionless_list = self.dimensionless_parameters\n",
    "        for i in range(len(dimensionless_list)):\n",
    "            solutions.append(sympy.solve(sympy.Eq(dimensionless_list[i], dimensionless_symbol),\n",
    "                                         parameter.symbol))\n",
    "        return solutions"
   ]
  },
  {
   "cell_type": "markdown",
   "metadata": {},
   "source": [
    "# Fluid Flow"
   ]
  },
  {
   "cell_type": "code",
   "execution_count": 15,
   "metadata": {},
   "outputs": [],
   "source": [
    "density = Parameter('rho', 'kg m^-3')\n",
    "viscosity = Parameter('mu', 'kg m^-1 s^-1')\n",
    "velocity = Parameter('u', 'm s^-1')\n",
    "diameter = Parameter('D', 'm')"
   ]
  },
  {
   "cell_type": "code",
   "execution_count": 16,
   "metadata": {},
   "outputs": [],
   "source": [
    "parameters = [density, viscosity, velocity, diameter]"
   ]
  },
  {
   "cell_type": "code",
   "execution_count": 17,
   "metadata": {},
   "outputs": [
    {
     "data": {
      "image/png": "[encoded data removed]",
      "text/latex": [
       "$\\displaystyle \\left[ \\frac{D \\rho u}{\\mu}\\right]$"
      ],
      "text/plain": [
       "⎡D⋅ρ⋅u⎤\n",
       "⎢─────⎥\n",
       "⎣  μ  ⎦"
      ]
     },
     "execution_count": 17,
     "metadata": {},
     "output_type": "execute_result"
    }
   ],
   "source": [
    "analyze = DimensionalAnalysis(parameters)\n",
    "analyze.dimensionless_parameters"
   ]
  },
  {
   "cell_type": "code",
   "execution_count": 18,
   "metadata": {},
   "outputs": [
    {
     "data": {
      "image/png": "[encoded data removed]",
      "text/latex": [
       "$\\displaystyle \\left[ \\left[ \\frac{\\Pi \\mu}{D \\rho}\\right]\\right]$"
      ],
      "text/plain": [
       "⎡⎡Π⋅μ⎤⎤\n",
       "⎢⎢───⎥⎥\n",
       "⎣⎣D⋅ρ⎦⎦"
      ]
     },
     "execution_count": 18,
     "metadata": {},
     "output_type": "execute_result"
    }
   ],
   "source": [
    "analyze.solve_for(velocity)"
   ]
  },
  {
   "cell_type": "markdown",
   "metadata": {},
   "source": [
    "# Pendulum"
   ]
  },
  {
   "cell_type": "code",
   "execution_count": 19,
   "metadata": {},
   "outputs": [],
   "source": [
    "period = Parameter('T', 's')\n",
    "g = Parameter('g', 'm s^-2')\n",
    "length = Parameter('L', 'm')"
   ]
  },
  {
   "cell_type": "code",
   "execution_count": 20,
   "metadata": {},
   "outputs": [],
   "source": [
    "parameters = [period, g, length]"
   ]
  },
  {
   "cell_type": "code",
   "execution_count": 21,
   "metadata": {},
   "outputs": [
    {
     "data": {
      "image/png": "[encoded data removed]",
      "text/latex": [
       "$\\displaystyle \\left[ \\frac{L}{T^{2} g}\\right]$"
      ],
      "text/plain": [
       "⎡ L  ⎤\n",
       "⎢────⎥\n",
       "⎢ 2  ⎥\n",
       "⎣T ⋅g⎦"
      ]
     },
     "execution_count": 21,
     "metadata": {},
     "output_type": "execute_result"
    }
   ],
   "source": [
    "analyze = DimensionalAnalysis(parameters)\n",
    "analyze.dimensionless_parameters"
   ]
  },
  {
   "cell_type": "code",
   "execution_count": 22,
   "metadata": {},
   "outputs": [
    {
     "data": {
      "image/png": "[encoded data removed]",
      "text/latex": [
       "$\\displaystyle \\left[ \\left[ - \\sqrt{\\frac{L}{\\Pi g}}, \\  \\sqrt{\\frac{L}{\\Pi g}}\\right]\\right]$"
      ],
      "text/plain": [
       "⎡⎡     _____      _____⎤⎤\n",
       "⎢⎢    ╱  L       ╱  L  ⎥⎥\n",
       "⎢⎢-  ╱  ─── ,   ╱  ─── ⎥⎥\n",
       "⎣⎣ ╲╱   Π⋅g   ╲╱   Π⋅g ⎦⎦"
      ]
     },
     "execution_count": 22,
     "metadata": {},
     "output_type": "execute_result"
    }
   ],
   "source": [
    "analyze.solve_for(period)"
   ]
  },
  {
   "cell_type": "markdown",
   "metadata": {},
   "source": [
    "# Fluid Static"
   ]
  },
  {
   "cell_type": "code",
   "execution_count": 23,
   "metadata": {},
   "outputs": [],
   "source": [
    "pressure = Parameter('P', 'Pa')\n",
    "density = Parameter('rho', 'kg m^-3')\n",
    "g = Parameter('g', 'm s^-2')\n",
    "height = Parameter('h', 'm')"
   ]
  },
  {
   "cell_type": "code",
   "execution_count": 24,
   "metadata": {},
   "outputs": [],
   "source": [
    "parameters = [pressure, density, g, height]"
   ]
  },
  {
   "cell_type": "code",
   "execution_count": 25,
   "metadata": {},
   "outputs": [
    {
     "data": {
      "image/png": "[encoded data removed]",
      "text/latex": [
       "$\\displaystyle \\left[ \\frac{g h \\rho}{P}\\right]$"
      ],
      "text/plain": [
       "⎡g⋅h⋅ρ⎤\n",
       "⎢─────⎥\n",
       "⎣  P  ⎦"
      ]
     },
     "execution_count": 25,
     "metadata": {},
     "output_type": "execute_result"
    }
   ],
   "source": [
    "analyze = DimensionalAnalysis(parameters)\n",
    "analyze.dimensionless_parameters"
   ]
  },
  {
   "cell_type": "code",
   "execution_count": 26,
   "metadata": {},
   "outputs": [
    {
     "data": {
      "image/png": "[encoded data removed]",
      "text/latex": [
       "$\\displaystyle \\left[ \\left[ \\frac{g h \\rho}{\\Pi}\\right]\\right]$"
      ],
      "text/plain": [
       "⎡⎡g⋅h⋅ρ⎤⎤\n",
       "⎢⎢─────⎥⎥\n",
       "⎣⎣  Π  ⎦⎦"
      ]
     },
     "execution_count": 26,
     "metadata": {},
     "output_type": "execute_result"
    }
   ],
   "source": [
    "analyze.solve_for(pressure)"
   ]
  },
  {
   "cell_type": "markdown",
   "metadata": {},
   "source": [
    "# Wave Equation"
   ]
  },
  {
   "cell_type": "code",
   "execution_count": 27,
   "metadata": {},
   "outputs": [],
   "source": [
    "wave_length = Parameter('lambda', 'm')\n",
    "velocity = Parameter('C', 'm s^-1')\n",
    "period = Parameter('T', 's')"
   ]
  },
  {
   "cell_type": "code",
   "execution_count": 28,
   "metadata": {},
   "outputs": [],
   "source": [
    "parameters = [wave_length, velocity, period]"
   ]
  },
  {
   "cell_type": "code",
   "execution_count": 29,
   "metadata": {},
   "outputs": [
    {
     "data": {
      "image/png": "[encoded data removed]",
      "text/latex": [
       "$\\displaystyle \\left[ \\frac{C T}{\\lambda}\\right]$"
      ],
      "text/plain": [
       "⎡C⋅T⎤\n",
       "⎢───⎥\n",
       "⎣ λ ⎦"
      ]
     },
     "execution_count": 29,
     "metadata": {},
     "output_type": "execute_result"
    }
   ],
   "source": [
    "analyze = DimensionalAnalysis(parameters)\n",
    "analyze.dimensionless_parameters"
   ]
  },
  {
   "cell_type": "code",
   "execution_count": 30,
   "metadata": {},
   "outputs": [
    {
     "data": {
      "image/png": "[encoded data removed]",
      "text/latex": [
       "$\\displaystyle \\left[ \\left[ \\frac{C T}{\\Pi}\\right]\\right]$"
      ],
      "text/plain": [
       "⎡⎡C⋅T⎤⎤\n",
       "⎢⎢───⎥⎥\n",
       "⎣⎣ Π ⎦⎦"
      ]
     },
     "execution_count": 30,
     "metadata": {},
     "output_type": "execute_result"
    }
   ],
   "source": [
    "analyze.solve_for(wave_length)"
   ]
  },
  {
   "cell_type": "code",
   "execution_count": 31,
   "metadata": {},
   "outputs": [
    {
     "data": {
      "text/plain": [
       "'riush'"
      ]
     },
     "execution_count": 31,
     "metadata": {},
     "output_type": "execute_result"
    }
   ],
   "source": [
    "'dariush'.replace('da', '')"
   ]
  },
  {
   "cell_type": "code",
   "execution_count": null,
   "metadata": {},
   "outputs": [],
   "source": []
  }
 ],
 "metadata": {
  "kernelspec": {
   "display_name": "Python 3",
   "language": "python",
   "name": "python3"
  },
  "language_info": {
   "codemirror_mode": {
    "name": "ipython",
    "version": 3
   },
   "file_extension": ".py",
   "mimetype": "text/x-python",
   "name": "python",
   "nbconvert_exporter": "python",
   "pygments_lexer": "ipython3",
   "version": "3.7.6"
  }
 },
 "nbformat": 4,
 "nbformat_minor": 4
}
