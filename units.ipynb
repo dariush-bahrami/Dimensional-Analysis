{
 "cells": [
  {
   "cell_type": "code",
   "execution_count": 1,
   "metadata": {},
   "outputs": [],
   "source": [
    "import sympy\n",
    "sympy.init_printing()"
   ]
  },
  {
   "cell_type": "code",
   "execution_count": 2,
   "metadata": {},
   "outputs": [],
   "source": [
    "def si_drived_unit_equivalent(unit_string:str) -> str:\n",
    "    assert ' ' not in unit_string, 'Invalid space character'\n",
    "    \n",
    "    si_drived_units = {'N': 'kg m s^-2', 'J': 'kg m^2 s^-2', 'C':'A s',\n",
    "                       'T': 'kg s^-2 A^-1', 'Pa':'kg m^-1 s^-2',\n",
    "                       'W':'kg m^2 s^-3', 'Hz':'s^-1', 'V':'kg m^2 s^-3 A^-1',\n",
    "                       'F':'kg^-1 m^-2 s^4 A^2', 'Wb':'kg m^2 s^-2 A^-1',\n",
    "                       'H':'kg m^2 s^-2 A^-2', 'ohm':'kg m^2 s^-3 A^-2',\n",
    "                       'rad':'', 'sr':''}\n",
    "    \n",
    "    if '^' in unit_string:\n",
    "        unit_part = unit_string.split('^')[0]\n",
    "        power_part = int(unit_string.split('^')[1])\n",
    "    else:\n",
    "        unit_part = unit_string\n",
    "        power_part = 1\n",
    "    \n",
    "    if unit_part in si_drived_units:\n",
    "        unit_part = si_drived_units[unit_part]            \n",
    "        unit_list = [unit_part for instance in range(power_part)]\n",
    "        return ' '.join(unit_list)\n",
    "    else:    \n",
    "        return unit_string\n",
    "\n",
    "def symplify_drived_units(unit_string:str) -> str:\n",
    "    unit_list = []\n",
    "    for unit in unit_string.split(' '):\n",
    "        unit_list.append(si_drived_unit_equivalent(unit))\n",
    "    return ' '.join(unit_list)"
   ]
  },
  {
   "cell_type": "code",
   "execution_count": 3,
   "metadata": {},
   "outputs": [],
   "source": [
    "def si_parser(unit_string:str) -> dict:\n",
    "    from sympy.physics import units\n",
    "    \n",
    "    si_system = {'m': units.length, 's': units.time,\n",
    "                 'k': units.temperature, 'kg': units.mass,\n",
    "                 'mol': units.amount_of_substance, 'A': units.current,\n",
    "                 'cd': units.luminous_intensity}\n",
    "    unit_string = symplify_drived_units(unit_string)\n",
    "    \n",
    "    result_unit = 1\n",
    "    for unit in unit_string.split(' '):\n",
    "        \n",
    "        if '^' in unit:\n",
    "            unit_part = unit.split('^')[0]\n",
    "            power_part = int(unit.split('^')[1])\n",
    "        else:\n",
    "            unit_part = unit\n",
    "            power_part = 1            \n",
    "        \n",
    "        result_unit *= (si_system[unit_part]**power_part)\n",
    "\n",
    "    return result_unit"
   ]
  },
  {
   "cell_type": "code",
   "execution_count": 4,
   "metadata": {},
   "outputs": [
    {
     "data": {
      "image/png": "[encoded data removed]",
      "text/latex": [
       "$\\displaystyle Dimension\\left(\\frac{length^{2} mass}{current time^{3}}\\right)$"
      ],
      "text/plain": [
       "Dimension(length**2*mass/(current*time**3))"
      ]
     },
     "execution_count": 4,
     "metadata": {},
     "output_type": "execute_result"
    }
   ],
   "source": [
    "f = si_parser('V')\n",
    "f"
   ]
  },
  {
   "cell_type": "markdown",
   "metadata": {},
   "source": [
    "# Dimensional Analysis"
   ]
  },
  {
   "cell_type": "code",
   "execution_count": 5,
   "metadata": {},
   "outputs": [],
   "source": [
    "def parameter(name:str, unit:str, latex_repr:str):\n",
    "    from sympy.physics.units import Quantity\n",
    "    from sympy.physics.units.systems import SI\n",
    "    \n",
    "    parameter = Quantity(name, latex_repr=latex_repr)\n",
    "    SI.set_quantity_dimension(parameter, si_parser(unit))\n",
    "    return parameter"
   ]
  },
  {
   "cell_type": "code",
   "execution_count": 6,
   "metadata": {},
   "outputs": [],
   "source": [
    "class DimensionalAnalysis:\n",
    "    def __init__(self, paramters:list):\n",
    "        self.parameters = paramters\n",
    "        \n",
    "    @property\n",
    "    def fundamental_dimensions(self):\n",
    "        from sympy.physics.units.systems.si import dimsys_SI\n",
    "        dimensions = set()\n",
    "        for parameter in self.parameters:\n",
    "            dimension_dict = dimsys_SI.get_dimensional_dependencies(parameter.dimension)\n",
    "            for dimension in dimension_dict:\n",
    "                dimensions.add(dimension)\n",
    "        return dimensions\n",
    "    \n",
    "    @property\n",
    "    def dimension_matrix(self):\n",
    "        from sympy.physics.units.systems.si import dimsys_SI\n",
    "        matrix = sympy.zeros(len(self.fundamental_dimensions),\n",
    "                             len(self.parameters))\n",
    "        for i, dimension in enumerate(self.fundamental_dimensions):\n",
    "            for j, parameter in enumerate(self.parameters):\n",
    "                dimension_dict = dimsys_SI.get_dimensional_dependencies(parameter.dimension)\n",
    "                if dimension in dimension_dict:\n",
    "                    matrix[i,j] = dimension_dict[dimension]\n",
    "                else:\n",
    "                    matrix[i,j] = 0\n",
    "\n",
    "        return matrix\n",
    "    \n",
    "    @property\n",
    "    def dimensionless_parameters(self):\n",
    "        dimesionless_dict = dict()\n",
    "        nullspace = self.dimension_matrix.nullspace()\n",
    "        for i, vector in enumerate(nullspace):\n",
    "            d = 1\n",
    "            for j, power in enumerate(vector):\n",
    "                if power - int(power) == 0:\n",
    "                    power = int(power) # Prefer using integer powers if possible\n",
    "                d *= (self.parameters[j]**power)\n",
    "                dimesionless_dict[sympy.symbols(f'Pi_{i}')] = d\n",
    "\n",
    "        return dimesionless_dict\n",
    "    \n",
    "    def solve_for(self, parameter):\n",
    "        solution_dict = dict()\n",
    "        dimensionless_dict = self.dimensionless_parameters\n",
    "        for d in dimensionless_dict:\n",
    "            solution = sympy.solve(sympy.Eq(dimensionless_dict[d], d),\n",
    "                                   parameter)\n",
    "            solution_dict[d] = solution\n",
    "        return solution_dict"
   ]
  },
  {
   "cell_type": "code",
   "execution_count": 7,
   "metadata": {},
   "outputs": [],
   "source": [
    "def dimensional_analysis(*args):\n",
    "    analyze = DimensionalAnalysis([*args])\n",
    "    return analyze.dimensionless_parameters\n",
    "\n",
    "def solve_from_dimensional_analysis(*args, target_parameter):\n",
    "    analyze = DimensionalAnalysis([*args])\n",
    "    return analyze.solve_for(target_parameter)"
   ]
  },
  {
   "cell_type": "code",
   "execution_count": 8,
   "metadata": {},
   "outputs": [],
   "source": [
    "def standard_parameters(parameters_string:str) -> list:\n",
    "    parameter_list = parameters_string.split(' ')\n",
    "    # 1D Length related parameters\n",
    "    length = parameter('Length', 'm', 'L')\n",
    "    width = parameter('Width', 'm', 'L')\n",
    "    height = parameter('Height', 'm', 'h')\n",
    "    diameter = parameter('Diameter', 'm', 'D')\n",
    "    radius = parameter('Radius', 'm', 'r')\n",
    "    \n",
    "    # 2D Length related parameters\n",
    "    area = parameter('Area', 'm^2', 'A')\n",
    "    \n",
    "    # 3D Length related parameters\n",
    "    volume = parameter('Volume', 'm^2', 'V')\n",
    "    \n",
    "    # Mechanic related parameters\n",
    "    mass = parameter('Mass', 'kg', 'm')\n",
    "    velocity = parameter('Velocity', 'm s^-1', 'v')\n",
    "    acceleration = parameter('Acceleration', 'm s^-2', 'a')\n",
    "    g = parameter('g', 'm s^-2', 'g')\n",
    "    force = parameter('Force', 'N', 'F')\n",
    "    momentum = parameter('Momentum', 'kg m s^-1', 'p')\n",
    "    period = parameter('Period', 's', 'T')\n",
    "    frequency = parameter('Frequency', 's^-1', 'f')\n",
    "    energy = parameter('Energy', 'J', 'E')\n",
    "    work = parameter('Work', 'J', 'W')\n",
    "    potential_energy = parameter('Potential Energy', 'J', 'PE')\n",
    "    kinetic_energy = parameter('Kinetic Energy', 'J', 'KE')\n",
    "    \n",
    "    \n",
    "    # Fluid mechanic parameters\n",
    "    density = parameter('Density', 'kg m^-3', '\\\\rho')\n",
    "    viscosity = parameter('Viscosity', 'kg m^-1 s^-1', '\\mu')\n",
    "    pressure = parameter('Pressure', 'Pa', 'P')\n",
    "    temperature = parameter('Temperature', 'k', 'T')\n",
    "    heat = parameter('Heat', 'J', 'Q')\n",
    "    \n",
    "    # Wave related parameters   \n",
    "    wave_length = parameter('Wave Length', 'm', '\\lambda')\n",
    "    \n",
    "    # Electric related parameters\n",
    "    electric_current = parameter('Electric Current', 'A', 'I')\n",
    "    electric_voltage = parameter('Electric Voltage', 'V', 'V')\n",
    "    electric_resistance = parameter('Electric Resistance', 'ohm', 'R')\n",
    "    electric_charge = parameter('Electric Charge', 'A s', 'q')\n",
    "    \n",
    "    # Magnetic related parameters\n",
    "    magnetic_field = parameter('Magnetic Field', 'T', 'B')\n",
    "    \n",
    "    \n",
    "    \n",
    "    standard_quantities = {\n",
    "        'length': length,\n",
    "        'width': width,\n",
    "        'height': height,\n",
    "        'diameter': diameter,\n",
    "        'radius': radius,\n",
    "        'area': area,\n",
    "        'volume': volume,\n",
    "        'mass': mass,\n",
    "        'velocity': parameter('Velocity', 'm s^-1', 'v'),\n",
    "        'acceleration': velocity,\n",
    "        'g': g,\n",
    "        'force': force,\n",
    "        'momentum': momentum,\n",
    "        'period': period,\n",
    "        'frequency': frequency,\n",
    "        'energy': energy,\n",
    "        'work': work,\n",
    "        'potential_energy': potential_energy,\n",
    "        'kinetic_energy': kinetic_energy,\n",
    "        'density': density,\n",
    "        'viscosity': viscosity,\n",
    "        'pressure': pressure,\n",
    "        'temperature':temperature,\n",
    "        'heat': heat,\n",
    "        'wave_length': wave_length,\n",
    "        'electric_current': electric_current,\n",
    "        'electric_voltage': electric_voltage,\n",
    "        'electric_resistance': electric_resistance,\n",
    "        'electric_charge': electric_charge,\n",
    "        'magnetic_field': magnetic_field\n",
    "    }\n",
    "    \n",
    "    parameters = [standard_quantities[p] for p in parameter_list]\n",
    "    return parameters\n",
    "    "
   ]
  },
  {
   "cell_type": "code",
   "execution_count": 9,
   "metadata": {},
   "outputs": [
    {
     "data": {
      "image/png": "[encoded data removed]",
      "text/latex": [
       "$\\displaystyle \\left[ Q, \\  T, \\  \\rho\\right]$"
      ],
      "text/plain": [
       "[Heat, Temperature, Density]"
      ]
     },
     "execution_count": 9,
     "metadata": {},
     "output_type": "execute_result"
    }
   ],
   "source": [
    "standard_parameters('heat temperature density')"
   ]
  },
  {
   "cell_type": "code",
   "execution_count": 43,
   "metadata": {},
   "outputs": [],
   "source": [
    "def standard_dimensional_analysis(parameters_string:str):\n",
    "    parameters = standard_parameters(parameters_string)\n",
    "    return dimensional_analysis(*parameters)\n",
    "\n",
    "def solve_from_standard_dimensional_analysis(parameters_string:str, target_parameter_string:str):\n",
    "    parameters = standard_parameters(parameters_string)\n",
    "    target_parameter = standard_parameters(target_parameter_string)[0]\n",
    "    return solve_from_dimensional_analysis(*parameters, target_parameter=target_parameter)"
   ]
  },
  {
   "cell_type": "markdown",
   "metadata": {},
   "source": [
    "# Manual Dimensional Analysis"
   ]
  },
  {
   "cell_type": "code",
   "execution_count": 44,
   "metadata": {},
   "outputs": [],
   "source": [
    "density = parameter('density', 'kg m^-3', '\\\\rho')\n",
    "viscosity = parameter('viscosity', 'kg m^-1 s^-1', '\\mu')\n",
    "velocity = parameter('velocity', 'm s^-1', 'u')\n",
    "diameter = parameter('diameter', 'm', 'D')"
   ]
  },
  {
   "cell_type": "code",
   "execution_count": 45,
   "metadata": {},
   "outputs": [
    {
     "data": {
      "image/png": "[encoded data removed]",
      "text/latex": [
       "$\\displaystyle \\left\\{ \\Pi_{0} : \\frac{\\rho D u}{\\mu}\\right\\}$"
      ],
      "text/plain": [
       "⎧    density⋅diameter⋅velocity⎫\n",
       "⎨Π₀: ─────────────────────────⎬\n",
       "⎩            viscosity        ⎭"
      ]
     },
     "execution_count": 45,
     "metadata": {},
     "output_type": "execute_result"
    }
   ],
   "source": [
    "dimensional_analysis(density, viscosity, velocity, diameter)"
   ]
  },
  {
   "cell_type": "code",
   "execution_count": 46,
   "metadata": {},
   "outputs": [
    {
     "data": {
      "image/png": "[encoded data removed]",
      "text/latex": [
       "$\\displaystyle \\left\\{ \\Pi_{0} : \\left[ \\frac{\\Pi_{0} \\mu}{\\rho D}\\right]\\right\\}$"
      ],
      "text/plain": [
       "⎧    ⎡  Π₀⋅viscosity  ⎤⎫\n",
       "⎨Π₀: ⎢────────────────⎥⎬\n",
       "⎩    ⎣density⋅diameter⎦⎭"
      ]
     },
     "execution_count": 46,
     "metadata": {},
     "output_type": "execute_result"
    }
   ],
   "source": [
    "solve_from_dimensional_analysis(density, viscosity, velocity, diameter, target_parameter=velocity)"
   ]
  },
  {
   "cell_type": "markdown",
   "metadata": {},
   "source": [
    "# Automated Standard Dimensional Analysis"
   ]
  },
  {
   "cell_type": "markdown",
   "metadata": {},
   "source": [
    "## Kinetic Energy"
   ]
  },
  {
   "cell_type": "code",
   "execution_count": 47,
   "metadata": {},
   "outputs": [
    {
     "data": {
      "image/png": "[encoded data removed]",
      "text/latex": [
       "$\\displaystyle \\left\\{ \\Pi_{0} : \\frac{\\sqrt{m} v}{\\sqrt{KE}}\\right\\}$"
      ],
      "text/plain": [
       "⎧      ______          ⎫\n",
       "⎪    ╲╱ Mass ⋅Velocity ⎪\n",
       "⎨Π₀: ──────────────────⎬\n",
       "⎪      ________________⎪\n",
       "⎩    ╲╱ Kinetic Energy ⎭"
      ]
     },
     "execution_count": 47,
     "metadata": {},
     "output_type": "execute_result"
    }
   ],
   "source": [
    "standard_dimensional_analysis('kinetic_energy mass velocity')"
   ]
  },
  {
   "cell_type": "code",
   "execution_count": 51,
   "metadata": {},
   "outputs": [
    {
     "data": {
      "image/png": "[encoded data removed]",
      "text/latex": [
       "$\\displaystyle \\left\\{ \\Pi_{0} : \\left[ \\frac{\\Pi_{0}^{2} KE}{v^{2}}\\right]\\right\\}$"
      ],
      "text/plain": [
       "⎧    ⎡  2               ⎤⎫\n",
       "⎪    ⎢Π₀ ⋅Kinetic Energy⎥⎪\n",
       "⎨Π₀: ⎢──────────────────⎥⎬\n",
       "⎪    ⎢            2     ⎥⎪\n",
       "⎩    ⎣    Velocity      ⎦⎭"
      ]
     },
     "execution_count": 51,
     "metadata": {},
     "output_type": "execute_result"
    }
   ],
   "source": [
    "solve_from_standard_dimensional_analysis('kinetic_energy mass velocity', 'mass')"
   ]
  },
  {
   "cell_type": "markdown",
   "metadata": {},
   "source": [
    "## Fluid Flow"
   ]
  },
  {
   "cell_type": "code",
   "execution_count": 15,
   "metadata": {},
   "outputs": [
    {
     "data": {
      "image/png": "[encoded data removed]",
      "text/latex": [
       "$\\displaystyle \\left\\{ \\Pi_{0} : \\frac{\\rho D v}{\\mu}\\right\\}$"
      ],
      "text/plain": [
       "⎧    Density⋅Diameter⋅Velocity⎫\n",
       "⎨Π₀: ─────────────────────────⎬\n",
       "⎩            Viscosity        ⎭"
      ]
     },
     "execution_count": 15,
     "metadata": {},
     "output_type": "execute_result"
    }
   ],
   "source": [
    "standard_dimensional_analysis('density viscosity velocity diameter')"
   ]
  },
  {
   "cell_type": "markdown",
   "metadata": {},
   "source": [
    "## Pendulum"
   ]
  },
  {
   "cell_type": "code",
   "execution_count": 16,
   "metadata": {},
   "outputs": [
    {
     "data": {
      "image/png": "[encoded data removed]",
      "text/latex": [
       "$\\displaystyle \\left\\{ \\Pi_{0} : \\frac{L}{T^{2} g}\\right\\}$"
      ],
      "text/plain": [
       "⎧      Length ⎫\n",
       "⎪Π₀: ─────────⎪\n",
       "⎨          2  ⎬\n",
       "⎪    Period ⋅g⎪\n",
       "⎩             ⎭"
      ]
     },
     "execution_count": 16,
     "metadata": {},
     "output_type": "execute_result"
    }
   ],
   "source": [
    "standard_dimensional_analysis('period g length')"
   ]
  },
  {
   "cell_type": "markdown",
   "metadata": {},
   "source": [
    "## Fluid Static"
   ]
  },
  {
   "cell_type": "code",
   "execution_count": 17,
   "metadata": {},
   "outputs": [
    {
     "data": {
      "image/png": "[encoded data removed]",
      "text/latex": [
       "$\\displaystyle \\left\\{ \\Pi_{0} : \\frac{\\rho h g}{P}\\right\\}$"
      ],
      "text/plain": [
       "⎧    Density⋅Height⋅g⎫\n",
       "⎨Π₀: ────────────────⎬\n",
       "⎩        Pressure    ⎭"
      ]
     },
     "execution_count": 17,
     "metadata": {},
     "output_type": "execute_result"
    }
   ],
   "source": [
    "standard_dimensional_analysis('pressure density g height')"
   ]
  },
  {
   "cell_type": "markdown",
   "metadata": {},
   "source": [
    "## Wave Equation"
   ]
  },
  {
   "cell_type": "code",
   "execution_count": 18,
   "metadata": {},
   "outputs": [
    {
     "data": {
      "image/png": "[encoded data removed]",
      "text/latex": [
       "$\\displaystyle \\left\\{ \\Pi_{0} : \\frac{T v}{\\lambda}\\right\\}$"
      ],
      "text/plain": [
       "⎧    Period⋅Velocity⎫\n",
       "⎨Π₀: ───────────────⎬\n",
       "⎩      Wave Length  ⎭"
      ]
     },
     "execution_count": 18,
     "metadata": {},
     "output_type": "execute_result"
    }
   ],
   "source": [
    "standard_dimensional_analysis('wave_length velocity period')"
   ]
  },
  {
   "cell_type": "markdown",
   "metadata": {},
   "source": [
    "## Magnetic Force"
   ]
  },
  {
   "cell_type": "code",
   "execution_count": 19,
   "metadata": {},
   "outputs": [
    {
     "data": {
      "image/png": "[encoded data removed]",
      "text/latex": [
       "$\\displaystyle \\left\\{ \\Pi_{0} : \\frac{I L B}{F}\\right\\}$"
      ],
      "text/plain": [
       "⎧    Electric Current⋅Length⋅Magnetic Field⎫\n",
       "⎨Π₀: ──────────────────────────────────────⎬\n",
       "⎩                    Force                 ⎭"
      ]
     },
     "execution_count": 19,
     "metadata": {},
     "output_type": "execute_result"
    }
   ],
   "source": [
    "standard_dimensional_analysis('magnetic_field force electric_current length')"
   ]
  },
  {
   "cell_type": "code",
   "execution_count": 52,
   "metadata": {},
   "outputs": [
    {
     "data": {
      "image/png": "[encoded data removed]",
      "text/latex": [
       "$\\displaystyle \\left\\{ \\Pi_{0} : \\left[ \\frac{I L B}{\\Pi_{0}}\\right]\\right\\}$"
      ],
      "text/plain": [
       "⎧    ⎡Electric Current⋅Length⋅Magnetic Field⎤⎫\n",
       "⎨Π₀: ⎢──────────────────────────────────────⎥⎬\n",
       "⎩    ⎣                  Π₀                  ⎦⎭"
      ]
     },
     "execution_count": 52,
     "metadata": {},
     "output_type": "execute_result"
    }
   ],
   "source": [
    "solve_from_standard_dimensional_analysis('magnetic_field force electric_current length', 'force')"
   ]
  },
  {
   "cell_type": "code",
   "execution_count": null,
   "metadata": {},
   "outputs": [],
   "source": []
  }
 ],
 "metadata": {
  "kernelspec": {
   "display_name": "Python 3",
   "language": "python",
   "name": "python3"
  },
  "language_info": {
   "codemirror_mode": {
    "name": "ipython",
    "version": 3
   },
   "file_extension": ".py",
   "mimetype": "text/x-python",
   "name": "python",
   "nbconvert_exporter": "python",
   "pygments_lexer": "ipython3",
   "version": "3.7.6"
  }
 },
 "nbformat": 4,
 "nbformat_minor": 4
}
