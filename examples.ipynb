{
 "cells": [
  {
   "cell_type": "code",
   "execution_count": 1,
   "metadata": {},
   "outputs": [],
   "source": [
    "import sympy\n",
    "sympy.init_printing()\n",
    "\n",
    "from dimensional_analysis import (parameter, dimensional_analysis,\n",
    "                                  solve_from_dimensional_analysis,\n",
    "                                  standard_dimensional_analysis,\n",
    "                                  solve_from_standard_dimensional_analysis)"
   ]
  },
  {
   "cell_type": "markdown",
   "metadata": {},
   "source": [
    "# Manual Dimensional Analysis"
   ]
  },
  {
   "cell_type": "code",
   "execution_count": 4,
   "metadata": {},
   "outputs": [],
   "source": [
    "density = parameter('density', 'kg m^-3', '\\\\rho')\n",
    "viscosity = parameter('viscosity', 'kg m^-1 s^-1', '\\mu')\n",
    "velocity = parameter('velocity', 'm s^-1', 'u')\n",
    "diameter = parameter('diameter', 'm', 'D')"
   ]
  },
  {
   "cell_type": "code",
   "execution_count": 5,
   "metadata": {},
   "outputs": [
    {
     "data": {
      "image/png": "[encoded data removed]",
      "text/latex": [
       "$\\displaystyle \\left\\{ \\Pi_{0} : \\frac{\\rho D u}{\\mu}\\right\\}$"
      ],
      "text/plain": [
       "⎧    density⋅diameter⋅velocity⎫\n",
       "⎨Π₀: ─────────────────────────⎬\n",
       "⎩            viscosity        ⎭"
      ]
     },
     "execution_count": 5,
     "metadata": {},
     "output_type": "execute_result"
    }
   ],
   "source": [
    "dimensional_analysis(density, viscosity, velocity, diameter)"
   ]
  },
  {
   "cell_type": "code",
   "execution_count": 6,
   "metadata": {},
   "outputs": [
    {
     "data": {
      "image/png": "[encoded data removed]",
      "text/latex": [
       "$\\displaystyle \\left\\{ \\Pi_{0} : \\left[ \\frac{\\Pi_{0} \\mu}{\\rho D}\\right]\\right\\}$"
      ],
      "text/plain": [
       "⎧    ⎡  Π₀⋅viscosity  ⎤⎫\n",
       "⎨Π₀: ⎢────────────────⎥⎬\n",
       "⎩    ⎣density⋅diameter⎦⎭"
      ]
     },
     "execution_count": 6,
     "metadata": {},
     "output_type": "execute_result"
    }
   ],
   "source": [
    "solve_from_dimensional_analysis(density, viscosity, velocity, diameter, target_parameter=velocity)"
   ]
  },
  {
   "cell_type": "markdown",
   "metadata": {},
   "source": [
    "# Automated Standard Dimensional Analysis"
   ]
  },
  {
   "cell_type": "markdown",
   "metadata": {},
   "source": [
    "## Kinetic Energy"
   ]
  },
  {
   "cell_type": "code",
   "execution_count": 7,
   "metadata": {},
   "outputs": [
    {
     "data": {
      "image/png": "[encoded data removed]",
      "text/latex": [
       "$\\displaystyle \\left\\{ \\Pi_{0} : \\frac{\\sqrt{m} v}{\\sqrt{KE}}\\right\\}$"
      ],
      "text/plain": [
       "⎧      ______          ⎫\n",
       "⎪    ╲╱ Mass ⋅Velocity ⎪\n",
       "⎨Π₀: ──────────────────⎬\n",
       "⎪      ________________⎪\n",
       "⎩    ╲╱ Kinetic Energy ⎭"
      ]
     },
     "execution_count": 7,
     "metadata": {},
     "output_type": "execute_result"
    }
   ],
   "source": [
    "standard_dimensional_analysis('kinetic_energy mass velocity')"
   ]
  },
  {
   "cell_type": "code",
   "execution_count": 8,
   "metadata": {},
   "outputs": [
    {
     "data": {
      "image/png": "[encoded data removed]",
      "text/latex": [
       "$\\displaystyle \\left\\{ \\Pi_{0} : \\left[ \\frac{\\Pi_{0}^{2} KE}{v^{2}}\\right]\\right\\}$"
      ],
      "text/plain": [
       "⎧    ⎡  2               ⎤⎫\n",
       "⎪    ⎢Π₀ ⋅Kinetic Energy⎥⎪\n",
       "⎨Π₀: ⎢──────────────────⎥⎬\n",
       "⎪    ⎢            2     ⎥⎪\n",
       "⎩    ⎣    Velocity      ⎦⎭"
      ]
     },
     "execution_count": 8,
     "metadata": {},
     "output_type": "execute_result"
    }
   ],
   "source": [
    "solve_from_standard_dimensional_analysis('kinetic_energy mass velocity', 'mass')"
   ]
  },
  {
   "cell_type": "markdown",
   "metadata": {},
   "source": [
    "## Fluid Flow"
   ]
  },
  {
   "cell_type": "code",
   "execution_count": 9,
   "metadata": {},
   "outputs": [
    {
     "data": {
      "image/png": "[encoded data removed]",
      "text/latex": [
       "$\\displaystyle \\left\\{ \\Pi_{0} : \\frac{\\rho D v}{\\mu}\\right\\}$"
      ],
      "text/plain": [
       "⎧    Density⋅Diameter⋅Velocity⎫\n",
       "⎨Π₀: ─────────────────────────⎬\n",
       "⎩            Viscosity        ⎭"
      ]
     },
     "execution_count": 9,
     "metadata": {},
     "output_type": "execute_result"
    }
   ],
   "source": [
    "standard_dimensional_analysis('density viscosity velocity diameter')"
   ]
  },
  {
   "cell_type": "markdown",
   "metadata": {},
   "source": [
    "## Pendulum"
   ]
  },
  {
   "cell_type": "code",
   "execution_count": 10,
   "metadata": {},
   "outputs": [
    {
     "data": {
      "image/png": "[encoded data removed]",
      "text/latex": [
       "$\\displaystyle \\left\\{ \\Pi_{0} : \\frac{L}{T^{2} g}\\right\\}$"
      ],
      "text/plain": [
       "⎧      Length ⎫\n",
       "⎪Π₀: ─────────⎪\n",
       "⎨          2  ⎬\n",
       "⎪    Period ⋅g⎪\n",
       "⎩             ⎭"
      ]
     },
     "execution_count": 10,
     "metadata": {},
     "output_type": "execute_result"
    }
   ],
   "source": [
    "standard_dimensional_analysis('period g length')"
   ]
  },
  {
   "cell_type": "markdown",
   "metadata": {},
   "source": [
    "## Fluid Static"
   ]
  },
  {
   "cell_type": "code",
   "execution_count": 11,
   "metadata": {},
   "outputs": [
    {
     "data": {
      "image/png": "[encoded data removed]",
      "text/latex": [
       "$\\displaystyle \\left\\{ \\Pi_{0} : \\frac{\\rho h g}{P}\\right\\}$"
      ],
      "text/plain": [
       "⎧    Density⋅Height⋅g⎫\n",
       "⎨Π₀: ────────────────⎬\n",
       "⎩        Pressure    ⎭"
      ]
     },
     "execution_count": 11,
     "metadata": {},
     "output_type": "execute_result"
    }
   ],
   "source": [
    "standard_dimensional_analysis('pressure density g height')"
   ]
  },
  {
   "cell_type": "markdown",
   "metadata": {},
   "source": [
    "## Wave Equation"
   ]
  },
  {
   "cell_type": "code",
   "execution_count": 12,
   "metadata": {},
   "outputs": [
    {
     "data": {
      "image/png": "[encoded data removed]",
      "text/latex": [
       "$\\displaystyle \\left\\{ \\Pi_{0} : \\frac{T v}{\\lambda}\\right\\}$"
      ],
      "text/plain": [
       "⎧    Period⋅Velocity⎫\n",
       "⎨Π₀: ───────────────⎬\n",
       "⎩      Wave Length  ⎭"
      ]
     },
     "execution_count": 12,
     "metadata": {},
     "output_type": "execute_result"
    }
   ],
   "source": [
    "standard_dimensional_analysis('wave_length velocity period')"
   ]
  },
  {
   "cell_type": "markdown",
   "metadata": {},
   "source": [
    "## Magnetic Force"
   ]
  },
  {
   "cell_type": "code",
   "execution_count": 13,
   "metadata": {},
   "outputs": [
    {
     "data": {
      "image/png": "[encoded data removed]",
      "text/latex": [
       "$\\displaystyle \\left\\{ \\Pi_{0} : \\frac{I L B}{F}\\right\\}$"
      ],
      "text/plain": [
       "⎧    Electric Current⋅Length⋅Magnetic Field⎫\n",
       "⎨Π₀: ──────────────────────────────────────⎬\n",
       "⎩                    Force                 ⎭"
      ]
     },
     "execution_count": 13,
     "metadata": {},
     "output_type": "execute_result"
    }
   ],
   "source": [
    "standard_dimensional_analysis('magnetic_field force electric_current length')"
   ]
  },
  {
   "cell_type": "code",
   "execution_count": 14,
   "metadata": {},
   "outputs": [
    {
     "data": {
      "image/png": "[encoded data removed]",
      "text/latex": [
       "$\\displaystyle \\left\\{ \\Pi_{0} : \\left[ \\frac{I L B}{\\Pi_{0}}\\right]\\right\\}$"
      ],
      "text/plain": [
       "⎧    ⎡Electric Current⋅Length⋅Magnetic Field⎤⎫\n",
       "⎨Π₀: ⎢──────────────────────────────────────⎥⎬\n",
       "⎩    ⎣                  Π₀                  ⎦⎭"
      ]
     },
     "execution_count": 14,
     "metadata": {},
     "output_type": "execute_result"
    }
   ],
   "source": [
    "solve_from_standard_dimensional_analysis('magnetic_field force electric_current length', 'force')"
   ]
  },
  {
   "cell_type": "code",
   "execution_count": null,
   "metadata": {},
   "outputs": [],
   "source": []
  }
 ],
 "metadata": {
  "kernelspec": {
   "display_name": "Python 3",
   "language": "python",
   "name": "python3"
  },
  "language_info": {
   "codemirror_mode": {
    "name": "ipython",
    "version": 3
   },
   "file_extension": ".py",
   "mimetype": "text/x-python",
   "name": "python",
   "nbconvert_exporter": "python",
   "pygments_lexer": "ipython3",
   "version": "3.7.6"
  }
 },
 "nbformat": 4,
 "nbformat_minor": 4
}
